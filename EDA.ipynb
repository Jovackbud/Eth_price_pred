{
 "cells": [
  {
   "cell_type": "code",
   "execution_count": 75,
   "metadata": {
    "pycharm": {
     "name": "#%%\n"
    }
   },
   "outputs": [],
   "source": [
    "import numpy as np\n",
    "import matplotlib.pyplot as plt\n",
    "import pandas as pd\n",
    "import seaborn as sns\n",
    "from datetime import datetime as dt\n",
    "%matplotlib inline"
   ]
  },
  {
   "cell_type": "code",
   "execution_count": 76,
   "metadata": {
    "pycharm": {
     "name": "#%%\n"
    }
   },
   "outputs": [],
   "source": [
    "df = pd.read_csv('Data/price/ETH-USD.csv')"
   ]
  },
  {
   "cell_type": "code",
   "execution_count": 77,
   "metadata": {
    "pycharm": {
     "name": "#%%\n"
    }
   },
   "outputs": [
    {
     "data": {
      "text/html": [
       "<div>\n",
       "<style scoped>\n",
       "    .dataframe tbody tr th:only-of-type {\n",
       "        vertical-align: middle;\n",
       "    }\n",
       "\n",
       "    .dataframe tbody tr th {\n",
       "        vertical-align: top;\n",
       "    }\n",
       "\n",
       "    .dataframe thead th {\n",
       "        text-align: right;\n",
       "    }\n",
       "</style>\n",
       "<table border=\"1\" class=\"dataframe\">\n",
       "  <thead>\n",
       "    <tr style=\"text-align: right;\">\n",
       "      <th></th>\n",
       "      <th>Date</th>\n",
       "      <th>Open</th>\n",
       "      <th>High</th>\n",
       "      <th>Low</th>\n",
       "      <th>Close</th>\n",
       "      <th>Adj Close</th>\n",
       "      <th>Volume</th>\n",
       "    </tr>\n",
       "  </thead>\n",
       "  <tbody>\n",
       "    <tr>\n",
       "      <th>0</th>\n",
       "      <td>09/11/2017</td>\n",
       "      <td>308.644989</td>\n",
       "      <td>329.451996</td>\n",
       "      <td>307.056000</td>\n",
       "      <td>320.884003</td>\n",
       "      <td>320.884003</td>\n",
       "      <td>893249984</td>\n",
       "    </tr>\n",
       "    <tr>\n",
       "      <th>1</th>\n",
       "      <td>10/11/2017</td>\n",
       "      <td>320.670990</td>\n",
       "      <td>324.717987</td>\n",
       "      <td>294.541992</td>\n",
       "      <td>299.252991</td>\n",
       "      <td>299.252991</td>\n",
       "      <td>885985984</td>\n",
       "    </tr>\n",
       "    <tr>\n",
       "      <th>2</th>\n",
       "      <td>11/11/2017</td>\n",
       "      <td>298.585999</td>\n",
       "      <td>319.453003</td>\n",
       "      <td>298.191986</td>\n",
       "      <td>314.681000</td>\n",
       "      <td>314.681000</td>\n",
       "      <td>842300992</td>\n",
       "    </tr>\n",
       "    <tr>\n",
       "      <th>3</th>\n",
       "      <td>12/11/2017</td>\n",
       "      <td>314.690002</td>\n",
       "      <td>319.153015</td>\n",
       "      <td>298.513000</td>\n",
       "      <td>307.907990</td>\n",
       "      <td>307.907990</td>\n",
       "      <td>1613479936</td>\n",
       "    </tr>\n",
       "    <tr>\n",
       "      <th>4</th>\n",
       "      <td>13/11/2017</td>\n",
       "      <td>307.024994</td>\n",
       "      <td>328.415009</td>\n",
       "      <td>307.024994</td>\n",
       "      <td>316.716003</td>\n",
       "      <td>316.716003</td>\n",
       "      <td>1041889984</td>\n",
       "    </tr>\n",
       "  </tbody>\n",
       "</table>\n",
       "</div>"
      ],
      "text/plain": [
       "         Date        Open        High         Low       Close   Adj Close  \\\n",
       "0  09/11/2017  308.644989  329.451996  307.056000  320.884003  320.884003   \n",
       "1  10/11/2017  320.670990  324.717987  294.541992  299.252991  299.252991   \n",
       "2  11/11/2017  298.585999  319.453003  298.191986  314.681000  314.681000   \n",
       "3  12/11/2017  314.690002  319.153015  298.513000  307.907990  307.907990   \n",
       "4  13/11/2017  307.024994  328.415009  307.024994  316.716003  316.716003   \n",
       "\n",
       "       Volume  \n",
       "0   893249984  \n",
       "1   885985984  \n",
       "2   842300992  \n",
       "3  1613479936  \n",
       "4  1041889984  "
      ]
     },
     "execution_count": 77,
     "metadata": {},
     "output_type": "execute_result"
    }
   ],
   "source": [
    "df.head()"
   ]
  },
  {
   "cell_type": "code",
   "execution_count": 78,
   "metadata": {
    "pycharm": {
     "name": "#%%\n"
    }
   },
   "outputs": [],
   "source": [
    "df['Date'] = pd.to_datetime(df['Date'])"
   ]
  },
  {
   "cell_type": "code",
   "execution_count": 79,
   "metadata": {
    "pycharm": {
     "name": "#%%\n"
    }
   },
   "outputs": [],
   "source": [
    "df['Week Day'] = df['Date'].dt.weekday.apply(lambda x: 1 if x < 5 else 0)\n",
    "df['Day'] = df['Date'].dt.weekday.apply(lambda x: x)"
   ]
  },
  {
   "cell_type": "code",
   "execution_count": 80,
   "metadata": {
    "pycharm": {
     "name": "#%%\n"
    }
   },
   "outputs": [
    {
     "data": {
      "text/html": [
       "<div>\n",
       "<style scoped>\n",
       "    .dataframe tbody tr th:only-of-type {\n",
       "        vertical-align: middle;\n",
       "    }\n",
       "\n",
       "    .dataframe tbody tr th {\n",
       "        vertical-align: top;\n",
       "    }\n",
       "\n",
       "    .dataframe thead th {\n",
       "        text-align: right;\n",
       "    }\n",
       "</style>\n",
       "<table border=\"1\" class=\"dataframe\">\n",
       "  <thead>\n",
       "    <tr style=\"text-align: right;\">\n",
       "      <th></th>\n",
       "      <th>Date</th>\n",
       "      <th>Open</th>\n",
       "      <th>High</th>\n",
       "      <th>Low</th>\n",
       "      <th>Close</th>\n",
       "      <th>Adj Close</th>\n",
       "      <th>Volume</th>\n",
       "      <th>Week Day</th>\n",
       "      <th>Day</th>\n",
       "    </tr>\n",
       "  </thead>\n",
       "  <tbody>\n",
       "    <tr>\n",
       "      <th>2003</th>\n",
       "      <td>2023-05-05</td>\n",
       "      <td>1877.833130</td>\n",
       "      <td>1998.413574</td>\n",
       "      <td>1876.946655</td>\n",
       "      <td>1995.060913</td>\n",
       "      <td>1995.060913</td>\n",
       "      <td>9498261360</td>\n",
       "      <td>1</td>\n",
       "      <td>4</td>\n",
       "    </tr>\n",
       "    <tr>\n",
       "      <th>2004</th>\n",
       "      <td>2023-06-05</td>\n",
       "      <td>1995.479126</td>\n",
       "      <td>2017.559448</td>\n",
       "      <td>1870.605591</td>\n",
       "      <td>1900.221802</td>\n",
       "      <td>1900.221802</td>\n",
       "      <td>9623243037</td>\n",
       "      <td>1</td>\n",
       "      <td>0</td>\n",
       "    </tr>\n",
       "    <tr>\n",
       "      <th>2005</th>\n",
       "      <td>2023-07-05</td>\n",
       "      <td>1899.917603</td>\n",
       "      <td>1933.998413</td>\n",
       "      <td>1873.076416</td>\n",
       "      <td>1873.076416</td>\n",
       "      <td>1873.076416</td>\n",
       "      <td>6883942236</td>\n",
       "      <td>1</td>\n",
       "      <td>2</td>\n",
       "    </tr>\n",
       "    <tr>\n",
       "      <th>2006</th>\n",
       "      <td>2023-08-05</td>\n",
       "      <td>1872.475098</td>\n",
       "      <td>1886.162109</td>\n",
       "      <td>1818.450562</td>\n",
       "      <td>1849.042725</td>\n",
       "      <td>1849.042725</td>\n",
       "      <td>9895102899</td>\n",
       "      <td>0</td>\n",
       "      <td>5</td>\n",
       "    </tr>\n",
       "    <tr>\n",
       "      <th>2007</th>\n",
       "      <td>2023-09-05</td>\n",
       "      <td>1848.572388</td>\n",
       "      <td>1855.824951</td>\n",
       "      <td>1833.420288</td>\n",
       "      <td>1845.526611</td>\n",
       "      <td>1845.526611</td>\n",
       "      <td>7899809280</td>\n",
       "      <td>1</td>\n",
       "      <td>1</td>\n",
       "    </tr>\n",
       "  </tbody>\n",
       "</table>\n",
       "</div>"
      ],
      "text/plain": [
       "           Date         Open         High          Low        Close  \\\n",
       "2003 2023-05-05  1877.833130  1998.413574  1876.946655  1995.060913   \n",
       "2004 2023-06-05  1995.479126  2017.559448  1870.605591  1900.221802   \n",
       "2005 2023-07-05  1899.917603  1933.998413  1873.076416  1873.076416   \n",
       "2006 2023-08-05  1872.475098  1886.162109  1818.450562  1849.042725   \n",
       "2007 2023-09-05  1848.572388  1855.824951  1833.420288  1845.526611   \n",
       "\n",
       "        Adj Close      Volume  Week Day  Day  \n",
       "2003  1995.060913  9498261360         1    4  \n",
       "2004  1900.221802  9623243037         1    0  \n",
       "2005  1873.076416  6883942236         1    2  \n",
       "2006  1849.042725  9895102899         0    5  \n",
       "2007  1845.526611  7899809280         1    1  "
      ]
     },
     "execution_count": 80,
     "metadata": {},
     "output_type": "execute_result"
    }
   ],
   "source": [
    "df.tail()"
   ]
  },
  {
   "cell_type": "code",
   "execution_count": 81,
   "metadata": {
    "pycharm": {
     "name": "#%%\n"
    }
   },
   "outputs": [
    {
     "data": {
      "text/html": [
       "<div>\n",
       "<style scoped>\n",
       "    .dataframe tbody tr th:only-of-type {\n",
       "        vertical-align: middle;\n",
       "    }\n",
       "\n",
       "    .dataframe tbody tr th {\n",
       "        vertical-align: top;\n",
       "    }\n",
       "\n",
       "    .dataframe thead th {\n",
       "        text-align: right;\n",
       "    }\n",
       "</style>\n",
       "<table border=\"1\" class=\"dataframe\">\n",
       "  <thead>\n",
       "    <tr style=\"text-align: right;\">\n",
       "      <th></th>\n",
       "      <th>Open</th>\n",
       "      <th>High</th>\n",
       "      <th>Low</th>\n",
       "      <th>Close</th>\n",
       "      <th>Volume</th>\n",
       "      <th>Week Day</th>\n",
       "      <th>Day</th>\n",
       "      <th>Next_High</th>\n",
       "      <th>Next_Low</th>\n",
       "    </tr>\n",
       "    <tr>\n",
       "      <th>Date</th>\n",
       "      <th></th>\n",
       "      <th></th>\n",
       "      <th></th>\n",
       "      <th></th>\n",
       "      <th></th>\n",
       "      <th></th>\n",
       "      <th></th>\n",
       "      <th></th>\n",
       "      <th></th>\n",
       "    </tr>\n",
       "  </thead>\n",
       "  <tbody>\n",
       "    <tr>\n",
       "      <th>2023-05-05</th>\n",
       "      <td>1877.833130</td>\n",
       "      <td>1998.413574</td>\n",
       "      <td>1876.946655</td>\n",
       "      <td>1995.060913</td>\n",
       "      <td>9498261360</td>\n",
       "      <td>1</td>\n",
       "      <td>4</td>\n",
       "      <td>2017.559448</td>\n",
       "      <td>1870.605591</td>\n",
       "    </tr>\n",
       "    <tr>\n",
       "      <th>2023-06-05</th>\n",
       "      <td>1995.479126</td>\n",
       "      <td>2017.559448</td>\n",
       "      <td>1870.605591</td>\n",
       "      <td>1900.221802</td>\n",
       "      <td>9623243037</td>\n",
       "      <td>1</td>\n",
       "      <td>0</td>\n",
       "      <td>1933.998413</td>\n",
       "      <td>1873.076416</td>\n",
       "    </tr>\n",
       "    <tr>\n",
       "      <th>2023-07-05</th>\n",
       "      <td>1899.917603</td>\n",
       "      <td>1933.998413</td>\n",
       "      <td>1873.076416</td>\n",
       "      <td>1873.076416</td>\n",
       "      <td>6883942236</td>\n",
       "      <td>1</td>\n",
       "      <td>2</td>\n",
       "      <td>1886.162109</td>\n",
       "      <td>1818.450562</td>\n",
       "    </tr>\n",
       "    <tr>\n",
       "      <th>2023-08-05</th>\n",
       "      <td>1872.475098</td>\n",
       "      <td>1886.162109</td>\n",
       "      <td>1818.450562</td>\n",
       "      <td>1849.042725</td>\n",
       "      <td>9895102899</td>\n",
       "      <td>0</td>\n",
       "      <td>5</td>\n",
       "      <td>1855.824951</td>\n",
       "      <td>1833.420288</td>\n",
       "    </tr>\n",
       "    <tr>\n",
       "      <th>2023-09-05</th>\n",
       "      <td>1848.572388</td>\n",
       "      <td>1855.824951</td>\n",
       "      <td>1833.420288</td>\n",
       "      <td>1845.526611</td>\n",
       "      <td>7899809280</td>\n",
       "      <td>1</td>\n",
       "      <td>1</td>\n",
       "      <td>NaN</td>\n",
       "      <td>NaN</td>\n",
       "    </tr>\n",
       "  </tbody>\n",
       "</table>\n",
       "</div>"
      ],
      "text/plain": [
       "                   Open         High          Low        Close      Volume  \\\n",
       "Date                                                                         \n",
       "2023-05-05  1877.833130  1998.413574  1876.946655  1995.060913  9498261360   \n",
       "2023-06-05  1995.479126  2017.559448  1870.605591  1900.221802  9623243037   \n",
       "2023-07-05  1899.917603  1933.998413  1873.076416  1873.076416  6883942236   \n",
       "2023-08-05  1872.475098  1886.162109  1818.450562  1849.042725  9895102899   \n",
       "2023-09-05  1848.572388  1855.824951  1833.420288  1845.526611  7899809280   \n",
       "\n",
       "            Week Day  Day    Next_High     Next_Low  \n",
       "Date                                                 \n",
       "2023-05-05         1    4  2017.559448  1870.605591  \n",
       "2023-06-05         1    0  1933.998413  1873.076416  \n",
       "2023-07-05         1    2  1886.162109  1818.450562  \n",
       "2023-08-05         0    5  1855.824951  1833.420288  \n",
       "2023-09-05         1    1          NaN          NaN  "
      ]
     },
     "execution_count": 81,
     "metadata": {},
     "output_type": "execute_result"
    }
   ],
   "source": [
    "df['Next_High'] = df['High'].shift(-1)\n",
    "df['Next_Low'] = df['Low'].shift(-1)\n",
    "df.set_index('Date', inplace=True)\n",
    "df.drop('Adj Close', axis=1, inplace=True)\n",
    "df.tail()"
   ]
  },
  {
   "cell_type": "code",
   "execution_count": 82,
   "metadata": {
    "pycharm": {
     "name": "#%%\n"
    }
   },
   "outputs": [
    {
     "name": "stdout",
     "output_type": "stream",
     "text": [
      "<class 'pandas.core.frame.DataFrame'>\n",
      "DatetimeIndex: 2008 entries, 2017-09-11 to 2023-09-05\n",
      "Data columns (total 9 columns):\n",
      " #   Column     Non-Null Count  Dtype  \n",
      "---  ------     --------------  -----  \n",
      " 0   Open       2008 non-null   float64\n",
      " 1   High       2008 non-null   float64\n",
      " 2   Low        2008 non-null   float64\n",
      " 3   Close      2008 non-null   float64\n",
      " 4   Volume     2008 non-null   int64  \n",
      " 5   Week Day   2008 non-null   int64  \n",
      " 6   Day        2008 non-null   int64  \n",
      " 7   Next_High  2007 non-null   float64\n",
      " 8   Next_Low   2007 non-null   float64\n",
      "dtypes: float64(6), int64(3)\n",
      "memory usage: 156.9 KB\n"
     ]
    }
   ],
   "source": [
    "df.info()"
   ]
  },
  {
   "cell_type": "code",
   "execution_count": 83,
   "metadata": {
    "pycharm": {
     "name": "#%%\n"
    }
   },
   "outputs": [
    {
     "data": {
      "text/html": [
       "<div>\n",
       "<style scoped>\n",
       "    .dataframe tbody tr th:only-of-type {\n",
       "        vertical-align: middle;\n",
       "    }\n",
       "\n",
       "    .dataframe tbody tr th {\n",
       "        vertical-align: top;\n",
       "    }\n",
       "\n",
       "    .dataframe thead th {\n",
       "        text-align: right;\n",
       "    }\n",
       "</style>\n",
       "<table border=\"1\" class=\"dataframe\">\n",
       "  <thead>\n",
       "    <tr style=\"text-align: right;\">\n",
       "      <th></th>\n",
       "      <th>count</th>\n",
       "      <th>mean</th>\n",
       "      <th>std</th>\n",
       "      <th>min</th>\n",
       "      <th>25%</th>\n",
       "      <th>50%</th>\n",
       "      <th>75%</th>\n",
       "      <th>max</th>\n",
       "    </tr>\n",
       "  </thead>\n",
       "  <tbody>\n",
       "    <tr>\n",
       "      <th>Open</th>\n",
       "      <td>2008.0</td>\n",
       "      <td>1.165016e+03</td>\n",
       "      <td>1.158752e+03</td>\n",
       "      <td>8.427969e+01</td>\n",
       "      <td>2.186955e+02</td>\n",
       "      <td>6.081049e+02</td>\n",
       "      <td>1.793533e+03</td>\n",
       "      <td>4.810071e+03</td>\n",
       "    </tr>\n",
       "    <tr>\n",
       "      <th>High</th>\n",
       "      <td>2008.0</td>\n",
       "      <td>1.201298e+03</td>\n",
       "      <td>1.193638e+03</td>\n",
       "      <td>8.534274e+01</td>\n",
       "      <td>2.242475e+02</td>\n",
       "      <td>6.221703e+02</td>\n",
       "      <td>1.837046e+03</td>\n",
       "      <td>4.891705e+03</td>\n",
       "    </tr>\n",
       "    <tr>\n",
       "      <th>Low</th>\n",
       "      <td>2008.0</td>\n",
       "      <td>1.124441e+03</td>\n",
       "      <td>1.118676e+03</td>\n",
       "      <td>8.282989e+01</td>\n",
       "      <td>2.122779e+02</td>\n",
       "      <td>5.836295e+02</td>\n",
       "      <td>1.732803e+03</td>\n",
       "      <td>4.718039e+03</td>\n",
       "    </tr>\n",
       "    <tr>\n",
       "      <th>Close</th>\n",
       "      <td>2008.0</td>\n",
       "      <td>1.165559e+03</td>\n",
       "      <td>1.158242e+03</td>\n",
       "      <td>8.430830e+01</td>\n",
       "      <td>2.186169e+02</td>\n",
       "      <td>6.088785e+02</td>\n",
       "      <td>1.793144e+03</td>\n",
       "      <td>4.812087e+03</td>\n",
       "    </tr>\n",
       "    <tr>\n",
       "      <th>Volume</th>\n",
       "      <td>2008.0</td>\n",
       "      <td>1.262044e+10</td>\n",
       "      <td>1.051423e+10</td>\n",
       "      <td>6.217330e+08</td>\n",
       "      <td>4.897369e+09</td>\n",
       "      <td>1.015476e+10</td>\n",
       "      <td>1.756317e+10</td>\n",
       "      <td>8.448291e+10</td>\n",
       "    </tr>\n",
       "    <tr>\n",
       "      <th>Week Day</th>\n",
       "      <td>2008.0</td>\n",
       "      <td>7.141434e-01</td>\n",
       "      <td>4.519340e-01</td>\n",
       "      <td>0.000000e+00</td>\n",
       "      <td>0.000000e+00</td>\n",
       "      <td>1.000000e+00</td>\n",
       "      <td>1.000000e+00</td>\n",
       "      <td>1.000000e+00</td>\n",
       "    </tr>\n",
       "    <tr>\n",
       "      <th>Day</th>\n",
       "      <td>2008.0</td>\n",
       "      <td>2.998506e+00</td>\n",
       "      <td>2.001618e+00</td>\n",
       "      <td>0.000000e+00</td>\n",
       "      <td>1.000000e+00</td>\n",
       "      <td>3.000000e+00</td>\n",
       "      <td>5.000000e+00</td>\n",
       "      <td>6.000000e+00</td>\n",
       "    </tr>\n",
       "    <tr>\n",
       "      <th>Next_High</th>\n",
       "      <td>2007.0</td>\n",
       "      <td>1.201732e+03</td>\n",
       "      <td>1.193777e+03</td>\n",
       "      <td>8.534274e+01</td>\n",
       "      <td>2.242407e+02</td>\n",
       "      <td>6.224527e+02</td>\n",
       "      <td>1.837093e+03</td>\n",
       "      <td>4.891705e+03</td>\n",
       "    </tr>\n",
       "    <tr>\n",
       "      <th>Next_Low</th>\n",
       "      <td>2007.0</td>\n",
       "      <td>1.124848e+03</td>\n",
       "      <td>1.118806e+03</td>\n",
       "      <td>8.282989e+01</td>\n",
       "      <td>2.122516e+02</td>\n",
       "      <td>5.837470e+02</td>\n",
       "      <td>1.733082e+03</td>\n",
       "      <td>4.718039e+03</td>\n",
       "    </tr>\n",
       "  </tbody>\n",
       "</table>\n",
       "</div>"
      ],
      "text/plain": [
       "            count          mean           std           min           25%  \\\n",
       "Open       2008.0  1.165016e+03  1.158752e+03  8.427969e+01  2.186955e+02   \n",
       "High       2008.0  1.201298e+03  1.193638e+03  8.534274e+01  2.242475e+02   \n",
       "Low        2008.0  1.124441e+03  1.118676e+03  8.282989e+01  2.122779e+02   \n",
       "Close      2008.0  1.165559e+03  1.158242e+03  8.430830e+01  2.186169e+02   \n",
       "Volume     2008.0  1.262044e+10  1.051423e+10  6.217330e+08  4.897369e+09   \n",
       "Week Day   2008.0  7.141434e-01  4.519340e-01  0.000000e+00  0.000000e+00   \n",
       "Day        2008.0  2.998506e+00  2.001618e+00  0.000000e+00  1.000000e+00   \n",
       "Next_High  2007.0  1.201732e+03  1.193777e+03  8.534274e+01  2.242407e+02   \n",
       "Next_Low   2007.0  1.124848e+03  1.118806e+03  8.282989e+01  2.122516e+02   \n",
       "\n",
       "                    50%           75%           max  \n",
       "Open       6.081049e+02  1.793533e+03  4.810071e+03  \n",
       "High       6.221703e+02  1.837046e+03  4.891705e+03  \n",
       "Low        5.836295e+02  1.732803e+03  4.718039e+03  \n",
       "Close      6.088785e+02  1.793144e+03  4.812087e+03  \n",
       "Volume     1.015476e+10  1.756317e+10  8.448291e+10  \n",
       "Week Day   1.000000e+00  1.000000e+00  1.000000e+00  \n",
       "Day        3.000000e+00  5.000000e+00  6.000000e+00  \n",
       "Next_High  6.224527e+02  1.837093e+03  4.891705e+03  \n",
       "Next_Low   5.837470e+02  1.733082e+03  4.718039e+03  "
      ]
     },
     "execution_count": 83,
     "metadata": {},
     "output_type": "execute_result"
    }
   ],
   "source": [
    "df.describe().transpose()"
   ]
  },
  {
   "cell_type": "code",
   "execution_count": 84,
   "metadata": {
    "pycharm": {
     "name": "#%%\n"
    }
   },
   "outputs": [
    {
     "data": {
      "text/plain": [
       "Open         0\n",
       "High         0\n",
       "Low          0\n",
       "Close        0\n",
       "Volume       0\n",
       "Week Day     0\n",
       "Day          0\n",
       "Next_High    1\n",
       "Next_Low     1\n",
       "dtype: int64"
      ]
     },
     "execution_count": 84,
     "metadata": {},
     "output_type": "execute_result"
    }
   ],
   "source": [
    "df.isnull().sum()"
   ]
  },
  {
   "cell_type": "code",
   "execution_count": 85,
   "metadata": {
    "pycharm": {
     "name": "#%%\n"
    }
   },
   "outputs": [],
   "source": [
    "#sns.pairplot(df)"
   ]
  },
  {
   "cell_type": "code",
   "execution_count": 86,
   "metadata": {
    "pycharm": {
     "name": "#%%\n"
    }
   },
   "outputs": [
    {
     "data": {
      "text/html": [
       "<div>\n",
       "<style scoped>\n",
       "    .dataframe tbody tr th:only-of-type {\n",
       "        vertical-align: middle;\n",
       "    }\n",
       "\n",
       "    .dataframe tbody tr th {\n",
       "        vertical-align: top;\n",
       "    }\n",
       "\n",
       "    .dataframe thead th {\n",
       "        text-align: right;\n",
       "    }\n",
       "</style>\n",
       "<table border=\"1\" class=\"dataframe\">\n",
       "  <thead>\n",
       "    <tr style=\"text-align: right;\">\n",
       "      <th></th>\n",
       "      <th>Open</th>\n",
       "      <th>High</th>\n",
       "      <th>Low</th>\n",
       "      <th>Close</th>\n",
       "      <th>Volume</th>\n",
       "      <th>Week Day</th>\n",
       "      <th>Day</th>\n",
       "      <th>Next_High</th>\n",
       "      <th>Next_Low</th>\n",
       "    </tr>\n",
       "  </thead>\n",
       "  <tbody>\n",
       "    <tr>\n",
       "      <th>Open</th>\n",
       "      <td>1.000000</td>\n",
       "      <td>0.999186</td>\n",
       "      <td>0.998235</td>\n",
       "      <td>0.997741</td>\n",
       "      <td>0.522631</td>\n",
       "      <td>-0.005089</td>\n",
       "      <td>0.007657</td>\n",
       "      <td>0.997374</td>\n",
       "      <td>0.995819</td>\n",
       "    </tr>\n",
       "    <tr>\n",
       "      <th>High</th>\n",
       "      <td>0.999186</td>\n",
       "      <td>1.000000</td>\n",
       "      <td>0.998044</td>\n",
       "      <td>0.998854</td>\n",
       "      <td>0.532740</td>\n",
       "      <td>-0.002346</td>\n",
       "      <td>0.005297</td>\n",
       "      <td>0.998576</td>\n",
       "      <td>0.996546</td>\n",
       "    </tr>\n",
       "    <tr>\n",
       "      <th>Low</th>\n",
       "      <td>0.998235</td>\n",
       "      <td>0.998044</td>\n",
       "      <td>1.000000</td>\n",
       "      <td>0.998888</td>\n",
       "      <td>0.503516</td>\n",
       "      <td>-0.007253</td>\n",
       "      <td>0.009035</td>\n",
       "      <td>0.997792</td>\n",
       "      <td>0.997504</td>\n",
       "    </tr>\n",
       "    <tr>\n",
       "      <th>Close</th>\n",
       "      <td>0.997741</td>\n",
       "      <td>0.998854</td>\n",
       "      <td>0.998888</td>\n",
       "      <td>1.000000</td>\n",
       "      <td>0.519805</td>\n",
       "      <td>-0.004921</td>\n",
       "      <td>0.007074</td>\n",
       "      <td>0.999175</td>\n",
       "      <td>0.998264</td>\n",
       "    </tr>\n",
       "    <tr>\n",
       "      <th>Volume</th>\n",
       "      <td>0.522631</td>\n",
       "      <td>0.532740</td>\n",
       "      <td>0.503516</td>\n",
       "      <td>0.519805</td>\n",
       "      <td>1.000000</td>\n",
       "      <td>0.064120</td>\n",
       "      <td>-0.046500</td>\n",
       "      <td>0.528781</td>\n",
       "      <td>0.509124</td>\n",
       "    </tr>\n",
       "    <tr>\n",
       "      <th>Week Day</th>\n",
       "      <td>-0.005089</td>\n",
       "      <td>-0.002346</td>\n",
       "      <td>-0.007253</td>\n",
       "      <td>-0.004921</td>\n",
       "      <td>0.064120</td>\n",
       "      <td>1.000000</td>\n",
       "      <td>-0.790875</td>\n",
       "      <td>-0.004175</td>\n",
       "      <td>-0.006204</td>\n",
       "    </tr>\n",
       "    <tr>\n",
       "      <th>Day</th>\n",
       "      <td>0.007657</td>\n",
       "      <td>0.005297</td>\n",
       "      <td>0.009035</td>\n",
       "      <td>0.007074</td>\n",
       "      <td>-0.046500</td>\n",
       "      <td>-0.790875</td>\n",
       "      <td>1.000000</td>\n",
       "      <td>0.005209</td>\n",
       "      <td>0.007824</td>\n",
       "    </tr>\n",
       "    <tr>\n",
       "      <th>Next_High</th>\n",
       "      <td>0.997374</td>\n",
       "      <td>0.998576</td>\n",
       "      <td>0.997792</td>\n",
       "      <td>0.999175</td>\n",
       "      <td>0.528781</td>\n",
       "      <td>-0.004175</td>\n",
       "      <td>0.005209</td>\n",
       "      <td>1.000000</td>\n",
       "      <td>0.998044</td>\n",
       "    </tr>\n",
       "    <tr>\n",
       "      <th>Next_Low</th>\n",
       "      <td>0.995819</td>\n",
       "      <td>0.996546</td>\n",
       "      <td>0.997504</td>\n",
       "      <td>0.998264</td>\n",
       "      <td>0.509124</td>\n",
       "      <td>-0.006204</td>\n",
       "      <td>0.007824</td>\n",
       "      <td>0.998044</td>\n",
       "      <td>1.000000</td>\n",
       "    </tr>\n",
       "  </tbody>\n",
       "</table>\n",
       "</div>"
      ],
      "text/plain": [
       "               Open      High       Low     Close    Volume  Week Day  \\\n",
       "Open       1.000000  0.999186  0.998235  0.997741  0.522631 -0.005089   \n",
       "High       0.999186  1.000000  0.998044  0.998854  0.532740 -0.002346   \n",
       "Low        0.998235  0.998044  1.000000  0.998888  0.503516 -0.007253   \n",
       "Close      0.997741  0.998854  0.998888  1.000000  0.519805 -0.004921   \n",
       "Volume     0.522631  0.532740  0.503516  0.519805  1.000000  0.064120   \n",
       "Week Day  -0.005089 -0.002346 -0.007253 -0.004921  0.064120  1.000000   \n",
       "Day        0.007657  0.005297  0.009035  0.007074 -0.046500 -0.790875   \n",
       "Next_High  0.997374  0.998576  0.997792  0.999175  0.528781 -0.004175   \n",
       "Next_Low   0.995819  0.996546  0.997504  0.998264  0.509124 -0.006204   \n",
       "\n",
       "                Day  Next_High  Next_Low  \n",
       "Open       0.007657   0.997374  0.995819  \n",
       "High       0.005297   0.998576  0.996546  \n",
       "Low        0.009035   0.997792  0.997504  \n",
       "Close      0.007074   0.999175  0.998264  \n",
       "Volume    -0.046500   0.528781  0.509124  \n",
       "Week Day  -0.790875  -0.004175 -0.006204  \n",
       "Day        1.000000   0.005209  0.007824  \n",
       "Next_High  0.005209   1.000000  0.998044  \n",
       "Next_Low   0.007824   0.998044  1.000000  "
      ]
     },
     "execution_count": 86,
     "metadata": {},
     "output_type": "execute_result"
    }
   ],
   "source": [
    "df.corr()"
   ]
  },
  {
   "cell_type": "code",
   "execution_count": 87,
   "metadata": {
    "pycharm": {
     "name": "#%%\n"
    }
   },
   "outputs": [
    {
     "data": {
      "text/plain": [
       "<AxesSubplot:xlabel='Date', ylabel='Next_High'>"
      ]
     },
     "execution_count": 87,
     "metadata": {},
     "output_type": "execute_result"
    },
    {
     "data": {
      "image/png": "[encoded data removed]",
      "text/plain": [
       "<Figure size 432x288 with 1 Axes>"
      ]
     },
     "metadata": {
      "needs_background": "light"
     },
     "output_type": "display_data"
    }
   ],
   "source": [
    "sns.scatterplot(data=df, x='Date', y='Next_High')"
   ]
  },
  {
   "cell_type": "code",
   "execution_count": 88,
   "metadata": {
    "pycharm": {
     "name": "#%%\n"
    }
   },
   "outputs": [],
   "source": [
    "df.to_csv('Data/price/clean_price_data')"
   ]
  },
  {
   "cell_type": "code",
   "execution_count": null,
   "metadata": {
    "pycharm": {
     "name": "#%%\n"
    }
   },
   "outputs": [],
   "source": []
  }
 ],
 "metadata": {
  "kernelspec": {
   "display_name": "Python 3",
   "language": "python",
   "name": "python3"
  },
  "language_info": {
   "codemirror_mode": {
    "name": "ipython",
    "version": 3
   },
   "file_extension": ".py",
   "mimetype": "text/x-python",
   "name": "python",
   "nbconvert_exporter": "python",
   "pygments_lexer": "ipython3",
   "version": "3.8.5"
  }
 },
 "nbformat": 4,
 "nbformat_minor": 1
}