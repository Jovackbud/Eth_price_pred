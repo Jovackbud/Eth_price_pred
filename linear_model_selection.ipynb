{
 "cells": [
  {
   "cell_type": "code",
   "execution_count": 31,
   "metadata": {
    "pycharm": {
     "name": "#%%\n"
    }
   },
   "outputs": [],
   "source": [
    "import numpy as np\n",
    "import pandas as pd"
   ]
  },
  {
   "cell_type": "code",
   "execution_count": 32,
   "metadata": {
    "pycharm": {
     "name": "#%%\n"
    }
   },
   "outputs": [],
   "source": [
    "df = pd.read_csv('Data/price/clean_price_data')"
   ]
  },
  {
   "cell_type": "code",
   "execution_count": 33,
   "metadata": {
    "pycharm": {
     "name": "#%%\n"
    }
   },
   "outputs": [
    {
     "data": {
      "text/plain": "         Date        Open        High         Low       Close      Volume  \\\n0  2017-09-11  308.644989  329.451996  307.056000  320.884003   893249984   \n1  2017-10-11  320.670990  324.717987  294.541992  299.252991   885985984   \n2  2017-11-11  298.585999  319.453003  298.191986  314.681000   842300992   \n3  2017-12-11  314.690002  319.153015  298.513000  307.907990  1613479936   \n4  2017-11-13  307.024994  328.415009  307.024994  316.716003  1041889984   \n\n   Week Day  Day   Next_High    Next_Low  \n0         1    0  324.717987  294.541992  \n1         1    2  319.453003  298.191986  \n2         0    5  319.153015  298.513000  \n3         1    0  328.415009  307.024994  \n4         1    0  340.177002  316.763000  ",
      "text/html": "<div>\n<style scoped>\n    .dataframe tbody tr th:only-of-type {\n        vertical-align: middle;\n    }\n\n    .dataframe tbody tr th {\n        vertical-align: top;\n    }\n\n    .dataframe thead th {\n        text-align: right;\n    }\n</style>\n<table border=\"1\" class=\"dataframe\">\n  <thead>\n    <tr style=\"text-align: right;\">\n      <th></th>\n      <th>Date</th>\n      <th>Open</th>\n      <th>High</th>\n      <th>Low</th>\n      <th>Close</th>\n      <th>Volume</th>\n      <th>Week Day</th>\n      <th>Day</th>\n      <th>Next_High</th>\n      <th>Next_Low</th>\n    </tr>\n  </thead>\n  <tbody>\n    <tr>\n      <th>0</th>\n      <td>2017-09-11</td>\n      <td>308.644989</td>\n      <td>329.451996</td>\n      <td>307.056000</td>\n      <td>320.884003</td>\n      <td>893249984</td>\n      <td>1</td>\n      <td>0</td>\n      <td>324.717987</td>\n      <td>294.541992</td>\n    </tr>\n    <tr>\n      <th>1</th>\n      <td>2017-10-11</td>\n      <td>320.670990</td>\n      <td>324.717987</td>\n      <td>294.541992</td>\n      <td>299.252991</td>\n      <td>885985984</td>\n      <td>1</td>\n      <td>2</td>\n      <td>319.453003</td>\n      <td>298.191986</td>\n    </tr>\n    <tr>\n      <th>2</th>\n      <td>2017-11-11</td>\n      <td>298.585999</td>\n      <td>319.453003</td>\n      <td>298.191986</td>\n      <td>314.681000</td>\n      <td>842300992</td>\n      <td>0</td>\n      <td>5</td>\n      <td>319.153015</td>\n      <td>298.513000</td>\n    </tr>\n    <tr>\n      <th>3</th>\n      <td>2017-12-11</td>\n      <td>314.690002</td>\n      <td>319.153015</td>\n      <td>298.513000</td>\n      <td>307.907990</td>\n      <td>1613479936</td>\n      <td>1</td>\n      <td>0</td>\n      <td>328.415009</td>\n      <td>307.024994</td>\n    </tr>\n    <tr>\n      <th>4</th>\n      <td>2017-11-13</td>\n      <td>307.024994</td>\n      <td>328.415009</td>\n      <td>307.024994</td>\n      <td>316.716003</td>\n      <td>1041889984</td>\n      <td>1</td>\n      <td>0</td>\n      <td>340.177002</td>\n      <td>316.763000</td>\n    </tr>\n  </tbody>\n</table>\n</div>"
     },
     "execution_count": 33,
     "metadata": {},
     "output_type": "execute_result"
    }
   ],
   "source": [
    "df.head()"
   ]
  },
  {
   "cell_type": "code",
   "execution_count": 34,
   "metadata": {
    "pycharm": {
     "name": "#%%\n"
    }
   },
   "outputs": [
    {
     "data": {
      "text/plain": "                   Open         High          Low        Close      Volume  \\\nDate                                                                         \n2023-04-05  1905.168945  1915.871704  1868.629761  1877.704102  6578438233   \n2023-05-05  1877.833130  1998.413574  1876.946655  1995.060913  9498261360   \n2023-06-05  1995.479126  2017.559448  1870.605591  1900.221802  9623243037   \n2023-07-05  1899.917603  1933.998413  1873.076416  1873.076416  6883942236   \n2023-08-05  1872.475098  1886.162109  1818.450562  1849.042725  9895102899   \n\n            Week Day  Day    Next_High     Next_Low  \nDate                                                 \n2023-04-05         1    2  1998.413574  1876.946655  \n2023-05-05         1    4  2017.559448  1870.605591  \n2023-06-05         1    0  1933.998413  1873.076416  \n2023-07-05         1    2  1886.162109  1818.450562  \n2023-08-05         0    5  1855.824951  1833.420288  ",
      "text/html": "<div>\n<style scoped>\n    .dataframe tbody tr th:only-of-type {\n        vertical-align: middle;\n    }\n\n    .dataframe tbody tr th {\n        vertical-align: top;\n    }\n\n    .dataframe thead th {\n        text-align: right;\n    }\n</style>\n<table border=\"1\" class=\"dataframe\">\n  <thead>\n    <tr style=\"text-align: right;\">\n      <th></th>\n      <th>Open</th>\n      <th>High</th>\n      <th>Low</th>\n      <th>Close</th>\n      <th>Volume</th>\n      <th>Week Day</th>\n      <th>Day</th>\n      <th>Next_High</th>\n      <th>Next_Low</th>\n    </tr>\n    <tr>\n      <th>Date</th>\n      <th></th>\n      <th></th>\n      <th></th>\n      <th></th>\n      <th></th>\n      <th></th>\n      <th></th>\n      <th></th>\n      <th></th>\n    </tr>\n  </thead>\n  <tbody>\n    <tr>\n      <th>2023-04-05</th>\n      <td>1905.168945</td>\n      <td>1915.871704</td>\n      <td>1868.629761</td>\n      <td>1877.704102</td>\n      <td>6578438233</td>\n      <td>1</td>\n      <td>2</td>\n      <td>1998.413574</td>\n      <td>1876.946655</td>\n    </tr>\n    <tr>\n      <th>2023-05-05</th>\n      <td>1877.833130</td>\n      <td>1998.413574</td>\n      <td>1876.946655</td>\n      <td>1995.060913</td>\n      <td>9498261360</td>\n      <td>1</td>\n      <td>4</td>\n      <td>2017.559448</td>\n      <td>1870.605591</td>\n    </tr>\n    <tr>\n      <th>2023-06-05</th>\n      <td>1995.479126</td>\n      <td>2017.559448</td>\n      <td>1870.605591</td>\n      <td>1900.221802</td>\n      <td>9623243037</td>\n      <td>1</td>\n      <td>0</td>\n      <td>1933.998413</td>\n      <td>1873.076416</td>\n    </tr>\n    <tr>\n      <th>2023-07-05</th>\n      <td>1899.917603</td>\n      <td>1933.998413</td>\n      <td>1873.076416</td>\n      <td>1873.076416</td>\n      <td>6883942236</td>\n      <td>1</td>\n      <td>2</td>\n      <td>1886.162109</td>\n      <td>1818.450562</td>\n    </tr>\n    <tr>\n      <th>2023-08-05</th>\n      <td>1872.475098</td>\n      <td>1886.162109</td>\n      <td>1818.450562</td>\n      <td>1849.042725</td>\n      <td>9895102899</td>\n      <td>0</td>\n      <td>5</td>\n      <td>1855.824951</td>\n      <td>1833.420288</td>\n    </tr>\n  </tbody>\n</table>\n</div>"
     },
     "execution_count": 34,
     "metadata": {},
     "output_type": "execute_result"
    }
   ],
   "source": [
    "df.set_index('Date', inplace=True)\n",
    "df = df.drop(index=df.index[-1])\n",
    "df.tail()"
   ]
  },
  {
   "cell_type": "code",
   "execution_count": 35,
   "metadata": {
    "pycharm": {
     "name": "#%%\n"
    }
   },
   "outputs": [],
   "source": [
    "train_size = 0.7\n",
    "train_index = int(len(df) * train_size)\n",
    "\n",
    "train_data = df.iloc[:train_index]\n",
    "test_data = df.iloc[train_index:]"
   ]
  },
  {
   "cell_type": "code",
   "execution_count": 36,
   "metadata": {
    "pycharm": {
     "name": "#%%\n"
    }
   },
   "outputs": [],
   "source": [
    "X_train = train_data.drop(['Next_High', 'Next_Low'], axis=1)\n",
    "y_train = train_data['Next_High']\n",
    "\n",
    "X_test = test_data.drop(['Next_High', 'Next_Low'], axis=1)\n",
    "y_test = test_data['Next_High']"
   ]
  },
  {
   "cell_type": "code",
   "execution_count": 37,
   "metadata": {
    "pycharm": {
     "name": "#%%\n"
    }
   },
   "outputs": [],
   "source": [
    "from sklearn.preprocessing import RobustScaler"
   ]
  },
  {
   "cell_type": "code",
   "execution_count": 38,
   "metadata": {
    "pycharm": {
     "name": "#%%\n"
    }
   },
   "outputs": [],
   "source": [
    "scaler = RobustScaler()\n",
    "scaler.fit(X_train)\n",
    "X_train_scaled = scaler.transform(X_train)\n",
    "X_test_scaled = scaler.transform(X_test)"
   ]
  },
  {
   "cell_type": "code",
   "execution_count": 39,
   "metadata": {
    "pycharm": {
     "name": "#%%\n"
    }
   },
   "outputs": [],
   "source": [
    "from sklearn.linear_model import ElasticNet"
   ]
  },
  {
   "cell_type": "code",
   "execution_count": 40,
   "metadata": {
    "pycharm": {
     "name": "#%%\n"
    }
   },
   "outputs": [],
   "source": [
    "linear_model = ElasticNet()"
   ]
  },
  {
   "cell_type": "code",
   "execution_count": 41,
   "metadata": {
    "pycharm": {
     "name": "#%%\n"
    }
   },
   "outputs": [
    {
     "data": {
      "text/plain": "ElasticNet()"
     },
     "execution_count": 41,
     "metadata": {},
     "output_type": "execute_result"
    }
   ],
   "source": [
    "linear_model.fit(X_train_scaled, y_train)"
   ]
  },
  {
   "cell_type": "code",
   "execution_count": 42,
   "metadata": {
    "pycharm": {
     "name": "#%%\n"
    }
   },
   "outputs": [],
   "source": [
    "linear_pred = linear_model.predict(X_test_scaled)"
   ]
  },
  {
   "cell_type": "code",
   "execution_count": 43,
   "metadata": {
    "pycharm": {
     "name": "#%%\n"
    }
   },
   "outputs": [],
   "source": [
    "from sklearn.metrics import mean_squared_error, mean_absolute_error"
   ]
  },
  {
   "cell_type": "code",
   "execution_count": 44,
   "metadata": {
    "pycharm": {
     "name": "#%%\n"
    }
   },
   "outputs": [
    {
     "data": {
      "text/plain": "106.5580869555413"
     },
     "execution_count": 44,
     "metadata": {},
     "output_type": "execute_result"
    }
   ],
   "source": [
    "RMSE = np.sqrt(mean_squared_error(y_test, linear_pred))\n",
    "RMSE"
   ]
  },
  {
   "cell_type": "markdown",
   "metadata": {
    "pycharm": {
     "name": "#%% md\n"
    }
   },
   "source": [
    "RMSE of RandomForest was: 156\n",
    "RMSE of AdaBoostRegressor was: 146\n",
    "RMSE of GradientBoostingRegressor was: 137"
   ]
  },
  {
   "cell_type": "code",
   "execution_count": 45,
   "metadata": {
    "pycharm": {
     "name": "#%%\n"
    }
   },
   "outputs": [
    {
     "data": {
      "text/plain": "10.381443335650133"
     },
     "execution_count": 45,
     "metadata": {},
     "output_type": "execute_result"
    }
   ],
   "source": [
    "(mean_absolute_error(y_test, linear_pred)/y_train.mean())*100"
   ]
  },
  {
   "cell_type": "raw",
   "metadata": {
    "pycharm": {
     "name": "#%% raw\n"
    }
   },
   "source": [
    "Grid Search"
   ]
  },
  {
   "cell_type": "code",
   "execution_count": 46,
   "metadata": {
    "pycharm": {
     "name": "#%%\n"
    }
   },
   "outputs": [],
   "source": [
    "from sklearn.model_selection import GridSearchCV"
   ]
  },
  {
   "cell_type": "code",
   "execution_count": 47,
   "metadata": {
    "pycharm": {
     "name": "#%%\n"
    }
   },
   "outputs": [],
   "source": [
    "param_grid = {'alpha':[0.25, 0.5, 0.6, 0.75], 'l1_ratio':[0.5, 0.6, 0.75]}"
   ]
  },
  {
   "cell_type": "code",
   "execution_count": 48,
   "metadata": {
    "pycharm": {
     "name": "#%%\n"
    }
   },
   "outputs": [],
   "source": [
    "grid = GridSearchCV(linear_model, param_grid=param_grid, cv=5)"
   ]
  },
  {
   "cell_type": "code",
   "execution_count": 49,
   "metadata": {
    "pycharm": {
     "name": "#%%\n"
    }
   },
   "outputs": [
    {
     "data": {
      "text/plain": "GridSearchCV(cv=5, estimator=ElasticNet(),\n             param_grid={'alpha': [0.25, 0.5, 0.6, 0.75],\n                         'l1_ratio': [0.5, 0.6, 0.75]})"
     },
     "execution_count": 49,
     "metadata": {},
     "output_type": "execute_result"
    }
   ],
   "source": [
    "grid.fit(X_train_scaled, y_train)"
   ]
  },
  {
   "cell_type": "code",
   "execution_count": 50,
   "metadata": {
    "pycharm": {
     "name": "#%%\n"
    }
   },
   "outputs": [
    {
     "data": {
      "text/plain": "{'alpha': 0.25, 'l1_ratio': 0.75}"
     },
     "execution_count": 50,
     "metadata": {},
     "output_type": "execute_result"
    }
   ],
   "source": [
    "grid.best_params_"
   ]
  },
  {
   "cell_type": "code",
   "execution_count": 51,
   "metadata": {
    "pycharm": {
     "name": "#%%\n"
    }
   },
   "outputs": [],
   "source": [
    "best_linear = ElasticNet(alpha=0.25, l1_ratio=0.75)"
   ]
  },
  {
   "cell_type": "code",
   "execution_count": 52,
   "metadata": {
    "pycharm": {
     "name": "#%%\n"
    }
   },
   "outputs": [
    {
     "data": {
      "text/plain": "ElasticNet(alpha=0.25, l1_ratio=0.75)"
     },
     "execution_count": 52,
     "metadata": {},
     "output_type": "execute_result"
    }
   ],
   "source": [
    "best_linear.fit(X_train_scaled, y_train)"
   ]
  },
  {
   "cell_type": "code",
   "execution_count": 53,
   "metadata": {
    "pycharm": {
     "name": "#%%\n"
    }
   },
   "outputs": [],
   "source": [
    "best_pred = best_linear.predict(X_test_scaled)"
   ]
  },
  {
   "cell_type": "code",
   "execution_count": 54,
   "metadata": {
    "pycharm": {
     "name": "#%%\n"
    }
   },
   "outputs": [
    {
     "data": {
      "text/plain": "74.50322942237855"
     },
     "execution_count": 54,
     "metadata": {},
     "output_type": "execute_result"
    }
   ],
   "source": [
    "RMSE = np.sqrt(mean_squared_error(y_test, best_pred))\n",
    "RMSE"
   ]
  },
  {
   "cell_type": "code",
   "execution_count": 54,
   "metadata": {
    "pycharm": {
     "name": "#%%\n"
    }
   },
   "outputs": [],
   "source": []
  },
  {
   "cell_type": "code",
   "execution_count": 55,
   "outputs": [],
   "source": [
    "best_linear = ElasticNet(alpha=0.25, l1_ratio=0.75)"
   ],
   "metadata": {
    "collapsed": false,
    "pycharm": {
     "name": "#%%\n"
    }
   }
  },
  {
   "cell_type": "code",
   "execution_count": 56,
   "outputs": [
    {
     "data": {
      "text/plain": "ElasticNet(alpha=0.25, l1_ratio=0.75)"
     },
     "execution_count": 56,
     "metadata": {},
     "output_type": "execute_result"
    }
   ],
   "source": [
    "best_linear.fit(X_train_scaled, y_train)"
   ],
   "metadata": {
    "collapsed": false,
    "pycharm": {
     "name": "#%%\n"
    }
   }
  },
  {
   "cell_type": "code",
   "execution_count": 57,
   "outputs": [],
   "source": [
    "best_pred = best_linear.predict(X_test_scaled)"
   ],
   "metadata": {
    "collapsed": false,
    "pycharm": {
     "name": "#%%\n"
    }
   }
  },
  {
   "cell_type": "code",
   "execution_count": 58,
   "outputs": [
    {
     "data": {
      "text/plain": "74.50322942237855"
     },
     "execution_count": 58,
     "metadata": {},
     "output_type": "execute_result"
    }
   ],
   "source": [
    "RMSE = np.sqrt(mean_squared_error(y_test, best_pred))\n",
    "RMSE"
   ],
   "metadata": {
    "collapsed": false,
    "pycharm": {
     "name": "#%%\n"
    }
   }
  },
  {
   "cell_type": "code",
   "execution_count": 59,
   "outputs": [],
   "source": [
    "import joblib"
   ],
   "metadata": {
    "collapsed": false,
    "pycharm": {
     "name": "#%%\n"
    }
   }
  },
  {
   "cell_type": "code",
   "execution_count": 60,
   "outputs": [
    {
     "data": {
      "text/plain": "['models/linear_model.pkl']"
     },
     "execution_count": 60,
     "metadata": {},
     "output_type": "execute_result"
    }
   ],
   "source": [
    "joblib.dump(value=best_linear, filename='models/linear_model.pkl')"
   ],
   "metadata": {
    "collapsed": false,
    "pycharm": {
     "name": "#%%\n"
    }
   }
  },
  {
   "cell_type": "markdown",
   "source": [
    "Second Model"
   ],
   "metadata": {
    "collapsed": false,
    "pycharm": {
     "name": "#%% md\n"
    }
   }
  },
  {
   "cell_type": "code",
   "execution_count": null,
   "outputs": [],
   "source": [],
   "metadata": {
    "collapsed": false,
    "pycharm": {
     "name": "#%%\n"
    }
   }
  }
 ],
 "metadata": {
  "kernelspec": {
   "display_name": "Python 3",
   "language": "python",
   "name": "python3"
  },
  "language_info": {
   "codemirror_mode": {
    "name": "ipython",
    "version": 3
   },
   "file_extension": ".py",
   "mimetype": "text/x-python",
   "name": "python",
   "nbconvert_exporter": "python",
   "pygments_lexer": "ipython3",
   "version": "3.8.5"
  }
 },
 "nbformat": 4,
 "nbformat_minor": 1
}